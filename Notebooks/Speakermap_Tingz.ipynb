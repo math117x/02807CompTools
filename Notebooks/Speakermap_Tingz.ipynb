{
 "cells": [
  {
   "cell_type": "code",
   "execution_count": 1,
   "metadata": {},
   "outputs": [
    {
     "name": "stdout",
     "output_type": "stream",
     "text": [
      "Unique parties:\n",
      "D\n",
      "I\n",
      "R\n",
      "party\n"
     ]
    }
   ],
   "source": [
    "def extract_parties(file_path):\n",
    "    parties = set()  # Use a set to ensure unique values\n",
    "    with open(file_path, 'r', encoding='utf-8') as file:\n",
    "        for line in file:\n",
    "            # Skip empty lines\n",
    "            if not line.strip():\n",
    "                continue\n",
    "            # Split the line by the delimiter '|'\n",
    "            fields = line.strip().split('|')\n",
    "            if len(fields) > 7:  # Ensure there are enough fields in the line\n",
    "                party = fields[7]  # Party is the 8th field (index 7)\n",
    "                parties.add(party)\n",
    "    return sorted(parties)  # Return a sorted list of unique parties\n",
    "\n",
    "def main():\n",
    "    file_path = \"C:/Users/hanst/Downloads/114_SpeakerMap.txt\"  # Replace with your actual file path\n",
    "    parties = extract_parties(file_path)\n",
    "    print(\"Unique parties:\")\n",
    "    for party in parties:\n",
    "        print(party)\n",
    "\n",
    "if __name__ == \"__main__\":\n",
    "    main()"
   ]
  },
  {
   "cell_type": "code",
   "execution_count": null,
   "metadata": {},
   "outputs": [],
   "source": []
  }
 ],
 "metadata": {
  "kernelspec": {
   "display_name": "Python 3",
   "language": "python",
   "name": "python3"
  },
  "language_info": {
   "codemirror_mode": {
    "name": "ipython",
    "version": 3
   },
   "file_extension": ".py",
   "mimetype": "text/x-python",
   "name": "python",
   "nbconvert_exporter": "python",
   "pygments_lexer": "ipython3",
   "version": "3.11.4"
  }
 },
 "nbformat": 4,
 "nbformat_minor": 2
}
